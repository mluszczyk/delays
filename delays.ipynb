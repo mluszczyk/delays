{
 "cells": [
  {
   "cell_type": "code",
   "execution_count": 48,
   "metadata": {},
   "outputs": [],
   "source": [
    "import pandas\n",
    "import numpy"
   ]
  },
  {
   "cell_type": "code",
   "execution_count": 84,
   "metadata": {},
   "outputs": [],
   "source": [
    "header = ['schedule_id', 'schedule_date', 'train_id', 'active', 'station_id', 'arrival_time', 'arrival_delay', 'departure_time', 'departure_delay']\n",
    "header_x = ['schedule_id', 'schedule_date', 'train_id', 'active', 'station_id', 'arrival_time', 'departure_time']\n",
    "header_y = 'departure_delay'"
   ]
  },
  {
   "cell_type": "code",
   "execution_count": 64,
   "metadata": {},
   "outputs": [],
   "source": [
    "\n",
    "data = pandas.read_csv(\"data.txt\", sep='\\t', names=header)"
   ]
  },
  {
   "cell_type": "code",
   "execution_count": 65,
   "metadata": {},
   "outputs": [
    {
     "data": {
      "text/html": [
       "<div>\n",
       "<style scoped>\n",
       "    .dataframe tbody tr th:only-of-type {\n",
       "        vertical-align: middle;\n",
       "    }\n",
       "\n",
       "    .dataframe tbody tr th {\n",
       "        vertical-align: top;\n",
       "    }\n",
       "\n",
       "    .dataframe thead th {\n",
       "        text-align: right;\n",
       "    }\n",
       "</style>\n",
       "<table border=\"1\" class=\"dataframe\">\n",
       "  <thead>\n",
       "    <tr style=\"text-align: right;\">\n",
       "      <th></th>\n",
       "      <th>schedule_id</th>\n",
       "      <th>schedule_date</th>\n",
       "      <th>train_id</th>\n",
       "      <th>active</th>\n",
       "      <th>station_id</th>\n",
       "      <th>arrival_time</th>\n",
       "      <th>arrival_delay</th>\n",
       "      <th>departure_time</th>\n",
       "      <th>departure_delay</th>\n",
       "    </tr>\n",
       "  </thead>\n",
       "  <tbody>\n",
       "    <tr>\n",
       "      <th>0</th>\n",
       "      <td>46739519</td>\n",
       "      <td>2016-12-11</td>\n",
       "      <td>1089</td>\n",
       "      <td>0</td>\n",
       "      <td>271</td>\n",
       "      <td>\\N</td>\n",
       "      <td>\\N</td>\n",
       "      <td>2016-12-11 05:42:00</td>\n",
       "      <td>0</td>\n",
       "    </tr>\n",
       "    <tr>\n",
       "      <th>1</th>\n",
       "      <td>46739519</td>\n",
       "      <td>2016-12-11</td>\n",
       "      <td>1089</td>\n",
       "      <td>0</td>\n",
       "      <td>1499</td>\n",
       "      <td>2016-12-11 05:48:30</td>\n",
       "      <td>0</td>\n",
       "      <td>2016-12-11 05:49:00</td>\n",
       "      <td>0</td>\n",
       "    </tr>\n",
       "    <tr>\n",
       "      <th>2</th>\n",
       "      <td>46739519</td>\n",
       "      <td>2016-12-11</td>\n",
       "      <td>1089</td>\n",
       "      <td>0</td>\n",
       "      <td>1500</td>\n",
       "      <td>2016-12-11 05:52:30</td>\n",
       "      <td>0</td>\n",
       "      <td>2016-12-11 05:53:00</td>\n",
       "      <td>0</td>\n",
       "    </tr>\n",
       "    <tr>\n",
       "      <th>3</th>\n",
       "      <td>46739519</td>\n",
       "      <td>2016-12-11</td>\n",
       "      <td>1089</td>\n",
       "      <td>0</td>\n",
       "      <td>1501</td>\n",
       "      <td>2016-12-11 05:56:30</td>\n",
       "      <td>0</td>\n",
       "      <td>2016-12-11 05:57:00</td>\n",
       "      <td>0</td>\n",
       "    </tr>\n",
       "    <tr>\n",
       "      <th>4</th>\n",
       "      <td>46739519</td>\n",
       "      <td>2016-12-11</td>\n",
       "      <td>1089</td>\n",
       "      <td>0</td>\n",
       "      <td>386</td>\n",
       "      <td>2016-12-11 06:05:00</td>\n",
       "      <td>0</td>\n",
       "      <td>2016-12-11 06:06:00</td>\n",
       "      <td>0</td>\n",
       "    </tr>\n",
       "  </tbody>\n",
       "</table>\n",
       "</div>"
      ],
      "text/plain": [
       "   schedule_id schedule_date  train_id  active  station_id  \\\n",
       "0     46739519    2016-12-11      1089       0         271   \n",
       "1     46739519    2016-12-11      1089       0        1499   \n",
       "2     46739519    2016-12-11      1089       0        1500   \n",
       "3     46739519    2016-12-11      1089       0        1501   \n",
       "4     46739519    2016-12-11      1089       0         386   \n",
       "\n",
       "          arrival_time arrival_delay       departure_time departure_delay  \n",
       "0                   \\N            \\N  2016-12-11 05:42:00               0  \n",
       "1  2016-12-11 05:48:30             0  2016-12-11 05:49:00               0  \n",
       "2  2016-12-11 05:52:30             0  2016-12-11 05:53:00               0  \n",
       "3  2016-12-11 05:56:30             0  2016-12-11 05:57:00               0  \n",
       "4  2016-12-11 06:05:00             0  2016-12-11 06:06:00               0  "
      ]
     },
     "execution_count": 65,
     "metadata": {},
     "output_type": "execute_result"
    }
   ],
   "source": [
    "data.head()"
   ]
  },
  {
   "cell_type": "code",
   "execution_count": 66,
   "metadata": {},
   "outputs": [],
   "source": [
    "def process(df):\n",
    "    df = df[df.arrival_time != \"\\\\N\"]\n",
    "    df = df[df.departure_time != \"\\\\N\"]\n",
    "    df.schedule_date = pandas.to_datetime(df.schedule_date, format='%Y-%m-%d').astype(int)\n",
    "    df.arrival_time = pandas.to_datetime(df.arrival_time, format='%Y-%m-%d %H:%M:%S').astype(int)\n",
    "    df.departure_time = pandas.to_datetime(df.departure_time, format='%Y-%m-%d %H:%M:%S').astype(int)\n",
    "    return df"
   ]
  },
  {
   "cell_type": "code",
   "execution_count": 67,
   "metadata": {},
   "outputs": [],
   "source": [
    "processed = process(data)"
   ]
  },
  {
   "cell_type": "code",
   "execution_count": 68,
   "metadata": {},
   "outputs": [],
   "source": [
    "def split(df):\n",
    "    point = processed.schedule_date.quantile(0.9)\n",
    "    train = df[processed.schedule_date < point]\n",
    "    test = df[processed.schedule_date >= point]\n",
    "    return train, test"
   ]
  },
  {
   "cell_type": "code",
   "execution_count": 69,
   "metadata": {},
   "outputs": [],
   "source": [
    "train, test = split(processed)"
   ]
  },
  {
   "cell_type": "code",
   "execution_count": 70,
   "metadata": {},
   "outputs": [],
   "source": [
    "from sklearn.linear_model import LinearRegression"
   ]
  },
  {
   "cell_type": "code",
   "execution_count": 61,
   "metadata": {},
   "outputs": [],
   "source": [
    "def toxy(df):\n",
    "    return df[header_x], df[header_y]"
   ]
  },
  {
   "cell_type": "code",
   "execution_count": 72,
   "metadata": {},
   "outputs": [
    {
     "data": {
      "text/plain": [
       "94784040"
      ]
     },
     "execution_count": 72,
     "metadata": {},
     "output_type": "execute_result"
    }
   ],
   "source": [
    "train.size"
   ]
  },
  {
   "cell_type": "code",
   "execution_count": 73,
   "metadata": {},
   "outputs": [
    {
     "data": {
      "text/plain": [
       "10794537"
      ]
     },
     "execution_count": 73,
     "metadata": {},
     "output_type": "execute_result"
    }
   ],
   "source": [
    "test.size"
   ]
  },
  {
   "cell_type": "code",
   "execution_count": 86,
   "metadata": {},
   "outputs": [
    {
     "data": {
      "text/plain": [
       "LinearRegression(copy_X=True, fit_intercept=True, n_jobs=1, normalize=False)"
      ]
     },
     "execution_count": 86,
     "metadata": {},
     "output_type": "execute_result"
    }
   ],
   "source": [
    "lr = LinearRegression()\n",
    "x,y = toxy(train)\n",
    "lr.fit(x, y)"
   ]
  },
  {
   "cell_type": "code",
   "execution_count": 87,
   "metadata": {},
   "outputs": [
    {
     "data": {
      "text/plain": [
       "-0.030345511908632217"
      ]
     },
     "execution_count": 87,
     "metadata": {},
     "output_type": "execute_result"
    }
   ],
   "source": [
    "x, y= toxy(test)\n",
    "lr.score(x, y)"
   ]
  },
  {
   "cell_type": "code",
   "execution_count": 88,
   "metadata": {},
   "outputs": [
    {
     "data": {
      "text/plain": [
       "0.02141942091698146"
      ]
     },
     "execution_count": 88,
     "metadata": {},
     "output_type": "execute_result"
    }
   ],
   "source": [
    "x, y= toxy(train)\n",
    "lr.score(x, y)"
   ]
  },
  {
   "cell_type": "code",
   "execution_count": 89,
   "metadata": {},
   "outputs": [
    {
     "data": {
      "text/plain": [
       "array([2.12810902, 2.13891043, 2.14971185, ..., 9.75900948, 9.45143754,\n",
       "       9.84389647])"
      ]
     },
     "execution_count": 89,
     "metadata": {},
     "output_type": "execute_result"
    }
   ],
   "source": [
    "lr.predict(x)"
   ]
  },
  {
   "cell_type": "code",
   "execution_count": 92,
   "metadata": {},
   "outputs": [
    {
     "data": {
      "text/plain": [
       "1            0\n",
       "2            0\n",
       "3            0\n",
       "4            0\n",
       "5            0\n",
       "6            0\n",
       "7            0\n",
       "8            0\n",
       "9            0\n",
       "10           0\n",
       "11           0\n",
       "12           0\n",
       "13           0\n",
       "16           0\n",
       "17           0\n",
       "18           0\n",
       "19           0\n",
       "20           0\n",
       "21           0\n",
       "22           0\n",
       "23           0\n",
       "24           0\n",
       "25           0\n",
       "26           0\n",
       "29           0\n",
       "30           0\n",
       "31           0\n",
       "32           0\n",
       "33           0\n",
       "34           0\n",
       "            ..\n",
       "12071523    98\n",
       "12071524    98\n",
       "12071525    98\n",
       "12071526    99\n",
       "12071527    99\n",
       "12071528    99\n",
       "12071529    99\n",
       "12071530    99\n",
       "12071531    99\n",
       "12071532    99\n",
       "12071533    99\n",
       "12071534    99\n",
       "12071535    98\n",
       "12071536    97\n",
       "12071537    97\n",
       "12071538    97\n",
       "12071617     0\n",
       "12071618     1\n",
       "12071619     0\n",
       "12071620     0\n",
       "12071621     0\n",
       "12071624     0\n",
       "12071625     0\n",
       "12071626     0\n",
       "12071627     0\n",
       "12071628     0\n",
       "12071629     0\n",
       "12071630     0\n",
       "12071631     0\n",
       "12071632     0\n",
       "Name: departure_delay, Length: 10531560, dtype: object"
      ]
     },
     "execution_count": 92,
     "metadata": {},
     "output_type": "execute_result"
    }
   ],
   "source": [
    "y"
   ]
  },
  {
   "cell_type": "code",
   "execution_count": 95,
   "metadata": {},
   "outputs": [
    {
     "data": {
      "text/plain": [
       "1            0\n",
       "2            0\n",
       "3            0\n",
       "4            0\n",
       "5            0\n",
       "6            0\n",
       "7            0\n",
       "8            0\n",
       "9            0\n",
       "10           0\n",
       "11           0\n",
       "12           0\n",
       "13           0\n",
       "16           0\n",
       "17           0\n",
       "18           0\n",
       "19           0\n",
       "20           0\n",
       "21           0\n",
       "22           0\n",
       "23           0\n",
       "24           0\n",
       "25           0\n",
       "26           0\n",
       "29           0\n",
       "30           0\n",
       "31           0\n",
       "32           0\n",
       "33           0\n",
       "34           0\n",
       "            ..\n",
       "12071523    98\n",
       "12071524    98\n",
       "12071525    98\n",
       "12071526    99\n",
       "12071527    99\n",
       "12071528    99\n",
       "12071529    99\n",
       "12071530    99\n",
       "12071531    99\n",
       "12071532    99\n",
       "12071533    99\n",
       "12071534    99\n",
       "12071535    98\n",
       "12071536    97\n",
       "12071537    97\n",
       "12071538    97\n",
       "12071617     0\n",
       "12071618     1\n",
       "12071619     0\n",
       "12071620     0\n",
       "12071621     0\n",
       "12071624     0\n",
       "12071625     0\n",
       "12071626     0\n",
       "12071627     0\n",
       "12071628     0\n",
       "12071629     0\n",
       "12071630     0\n",
       "12071631     0\n",
       "12071632     0\n",
       "Name: departure_delay, Length: 10531560, dtype: object"
      ]
     },
     "execution_count": 95,
     "metadata": {},
     "output_type": "execute_result"
    }
   ],
   "source": [
    "train.departure_delay"
   ]
  },
  {
   "cell_type": "code",
   "execution_count": 96,
   "metadata": {},
   "outputs": [
    {
     "data": {
      "text/html": [
       "<div>\n",
       "<style scoped>\n",
       "    .dataframe tbody tr th:only-of-type {\n",
       "        vertical-align: middle;\n",
       "    }\n",
       "\n",
       "    .dataframe tbody tr th {\n",
       "        vertical-align: top;\n",
       "    }\n",
       "\n",
       "    .dataframe thead th {\n",
       "        text-align: right;\n",
       "    }\n",
       "</style>\n",
       "<table border=\"1\" class=\"dataframe\">\n",
       "  <thead>\n",
       "    <tr style=\"text-align: right;\">\n",
       "      <th></th>\n",
       "      <th>schedule_id</th>\n",
       "      <th>schedule_date</th>\n",
       "      <th>train_id</th>\n",
       "      <th>active</th>\n",
       "      <th>station_id</th>\n",
       "      <th>arrival_time</th>\n",
       "      <th>arrival_delay</th>\n",
       "      <th>departure_time</th>\n",
       "      <th>departure_delay</th>\n",
       "    </tr>\n",
       "  </thead>\n",
       "  <tbody>\n",
       "    <tr>\n",
       "      <th>11692300</th>\n",
       "      <td>49698256</td>\n",
       "      <td>1509667200000000000</td>\n",
       "      <td>1089</td>\n",
       "      <td>0</td>\n",
       "      <td>1499</td>\n",
       "      <td>1509688110000000000</td>\n",
       "      <td>0</td>\n",
       "      <td>1509688140000000000</td>\n",
       "      <td>0</td>\n",
       "    </tr>\n",
       "    <tr>\n",
       "      <th>11692301</th>\n",
       "      <td>49698256</td>\n",
       "      <td>1509667200000000000</td>\n",
       "      <td>1089</td>\n",
       "      <td>0</td>\n",
       "      <td>1500</td>\n",
       "      <td>1509688350000000000</td>\n",
       "      <td>0</td>\n",
       "      <td>1509688380000000000</td>\n",
       "      <td>0</td>\n",
       "    </tr>\n",
       "    <tr>\n",
       "      <th>11692302</th>\n",
       "      <td>49698256</td>\n",
       "      <td>1509667200000000000</td>\n",
       "      <td>1089</td>\n",
       "      <td>0</td>\n",
       "      <td>1501</td>\n",
       "      <td>1509688590000000000</td>\n",
       "      <td>0</td>\n",
       "      <td>1509688620000000000</td>\n",
       "      <td>0</td>\n",
       "    </tr>\n",
       "    <tr>\n",
       "      <th>11692303</th>\n",
       "      <td>49698256</td>\n",
       "      <td>1509667200000000000</td>\n",
       "      <td>1089</td>\n",
       "      <td>0</td>\n",
       "      <td>386</td>\n",
       "      <td>1509689100000000000</td>\n",
       "      <td>0</td>\n",
       "      <td>1509689160000000000</td>\n",
       "      <td>0</td>\n",
       "    </tr>\n",
       "    <tr>\n",
       "      <th>11692304</th>\n",
       "      <td>49698256</td>\n",
       "      <td>1509667200000000000</td>\n",
       "      <td>1089</td>\n",
       "      <td>0</td>\n",
       "      <td>1502</td>\n",
       "      <td>1509689610000000000</td>\n",
       "      <td>0</td>\n",
       "      <td>1509689640000000000</td>\n",
       "      <td>0</td>\n",
       "    </tr>\n",
       "  </tbody>\n",
       "</table>\n",
       "</div>"
      ],
      "text/plain": [
       "          schedule_id        schedule_date  train_id  active  station_id  \\\n",
       "11692300     49698256  1509667200000000000      1089       0        1499   \n",
       "11692301     49698256  1509667200000000000      1089       0        1500   \n",
       "11692302     49698256  1509667200000000000      1089       0        1501   \n",
       "11692303     49698256  1509667200000000000      1089       0         386   \n",
       "11692304     49698256  1509667200000000000      1089       0        1502   \n",
       "\n",
       "                 arrival_time arrival_delay       departure_time  \\\n",
       "11692300  1509688110000000000             0  1509688140000000000   \n",
       "11692301  1509688350000000000             0  1509688380000000000   \n",
       "11692302  1509688590000000000             0  1509688620000000000   \n",
       "11692303  1509689100000000000             0  1509689160000000000   \n",
       "11692304  1509689610000000000             0  1509689640000000000   \n",
       "\n",
       "         departure_delay  \n",
       "11692300               0  \n",
       "11692301               0  \n",
       "11692302               0  \n",
       "11692303               0  \n",
       "11692304               0  "
      ]
     },
     "execution_count": 96,
     "metadata": {},
     "output_type": "execute_result"
    }
   ],
   "source": [
    "test.head()"
   ]
  },
  {
   "cell_type": "code",
   "execution_count": 99,
   "metadata": {},
   "outputs": [
    {
     "ename": "ValueError",
     "evalue": "Length of values does not match length of index",
     "output_type": "error",
     "traceback": [
      "\u001b[0;31m---------------------------------------------------------------------------\u001b[0m",
      "\u001b[0;31mValueError\u001b[0m                                Traceback (most recent call last)",
      "\u001b[0;32m<ipython-input-99-e91e3369a3f8>\u001b[0m in \u001b[0;36m<module>\u001b[0;34m()\u001b[0m\n\u001b[1;32m      1\u001b[0m \u001b[0mannotated_test\u001b[0m \u001b[0;34m=\u001b[0m \u001b[0mtest\u001b[0m\u001b[0;34m.\u001b[0m\u001b[0mcopy\u001b[0m\u001b[0;34m(\u001b[0m\u001b[0;34m)\u001b[0m\u001b[0;34m\u001b[0m\u001b[0m\n\u001b[0;32m----> 2\u001b[0;31m \u001b[0mannotated_test\u001b[0m\u001b[0;34m[\u001b[0m\u001b[0;34m\"predicted_delay\"\u001b[0m\u001b[0;34m]\u001b[0m \u001b[0;34m=\u001b[0m \u001b[0mlr\u001b[0m\u001b[0;34m.\u001b[0m\u001b[0mpredict\u001b[0m\u001b[0;34m(\u001b[0m\u001b[0mx\u001b[0m\u001b[0;34m)\u001b[0m\u001b[0;34m\u001b[0m\u001b[0m\n\u001b[0m",
      "\u001b[0;32m~/.virtualenvs/delays/lib/python3.6/site-packages/pandas/core/frame.py\u001b[0m in \u001b[0;36m__setitem__\u001b[0;34m(self, key, value)\u001b[0m\n\u001b[1;32m   2517\u001b[0m         \u001b[0;32melse\u001b[0m\u001b[0;34m:\u001b[0m\u001b[0;34m\u001b[0m\u001b[0m\n\u001b[1;32m   2518\u001b[0m             \u001b[0;31m# set column\u001b[0m\u001b[0;34m\u001b[0m\u001b[0;34m\u001b[0m\u001b[0m\n\u001b[0;32m-> 2519\u001b[0;31m             \u001b[0mself\u001b[0m\u001b[0;34m.\u001b[0m\u001b[0m_set_item\u001b[0m\u001b[0;34m(\u001b[0m\u001b[0mkey\u001b[0m\u001b[0;34m,\u001b[0m \u001b[0mvalue\u001b[0m\u001b[0;34m)\u001b[0m\u001b[0;34m\u001b[0m\u001b[0m\n\u001b[0m\u001b[1;32m   2520\u001b[0m \u001b[0;34m\u001b[0m\u001b[0m\n\u001b[1;32m   2521\u001b[0m     \u001b[0;32mdef\u001b[0m \u001b[0m_setitem_slice\u001b[0m\u001b[0;34m(\u001b[0m\u001b[0mself\u001b[0m\u001b[0;34m,\u001b[0m \u001b[0mkey\u001b[0m\u001b[0;34m,\u001b[0m \u001b[0mvalue\u001b[0m\u001b[0;34m)\u001b[0m\u001b[0;34m:\u001b[0m\u001b[0;34m\u001b[0m\u001b[0m\n",
      "\u001b[0;32m~/.virtualenvs/delays/lib/python3.6/site-packages/pandas/core/frame.py\u001b[0m in \u001b[0;36m_set_item\u001b[0;34m(self, key, value)\u001b[0m\n\u001b[1;32m   2583\u001b[0m \u001b[0;34m\u001b[0m\u001b[0m\n\u001b[1;32m   2584\u001b[0m         \u001b[0mself\u001b[0m\u001b[0;34m.\u001b[0m\u001b[0m_ensure_valid_index\u001b[0m\u001b[0;34m(\u001b[0m\u001b[0mvalue\u001b[0m\u001b[0;34m)\u001b[0m\u001b[0;34m\u001b[0m\u001b[0m\n\u001b[0;32m-> 2585\u001b[0;31m         \u001b[0mvalue\u001b[0m \u001b[0;34m=\u001b[0m \u001b[0mself\u001b[0m\u001b[0;34m.\u001b[0m\u001b[0m_sanitize_column\u001b[0m\u001b[0;34m(\u001b[0m\u001b[0mkey\u001b[0m\u001b[0;34m,\u001b[0m \u001b[0mvalue\u001b[0m\u001b[0;34m)\u001b[0m\u001b[0;34m\u001b[0m\u001b[0m\n\u001b[0m\u001b[1;32m   2586\u001b[0m         \u001b[0mNDFrame\u001b[0m\u001b[0;34m.\u001b[0m\u001b[0m_set_item\u001b[0m\u001b[0;34m(\u001b[0m\u001b[0mself\u001b[0m\u001b[0;34m,\u001b[0m \u001b[0mkey\u001b[0m\u001b[0;34m,\u001b[0m \u001b[0mvalue\u001b[0m\u001b[0;34m)\u001b[0m\u001b[0;34m\u001b[0m\u001b[0m\n\u001b[1;32m   2587\u001b[0m \u001b[0;34m\u001b[0m\u001b[0m\n",
      "\u001b[0;32m~/.virtualenvs/delays/lib/python3.6/site-packages/pandas/core/frame.py\u001b[0m in \u001b[0;36m_sanitize_column\u001b[0;34m(self, key, value, broadcast)\u001b[0m\n\u001b[1;32m   2758\u001b[0m \u001b[0;34m\u001b[0m\u001b[0m\n\u001b[1;32m   2759\u001b[0m             \u001b[0;31m# turn me into an ndarray\u001b[0m\u001b[0;34m\u001b[0m\u001b[0;34m\u001b[0m\u001b[0m\n\u001b[0;32m-> 2760\u001b[0;31m             \u001b[0mvalue\u001b[0m \u001b[0;34m=\u001b[0m \u001b[0m_sanitize_index\u001b[0m\u001b[0;34m(\u001b[0m\u001b[0mvalue\u001b[0m\u001b[0;34m,\u001b[0m \u001b[0mself\u001b[0m\u001b[0;34m.\u001b[0m\u001b[0mindex\u001b[0m\u001b[0;34m,\u001b[0m \u001b[0mcopy\u001b[0m\u001b[0;34m=\u001b[0m\u001b[0;32mFalse\u001b[0m\u001b[0;34m)\u001b[0m\u001b[0;34m\u001b[0m\u001b[0m\n\u001b[0m\u001b[1;32m   2761\u001b[0m             \u001b[0;32mif\u001b[0m \u001b[0;32mnot\u001b[0m \u001b[0misinstance\u001b[0m\u001b[0;34m(\u001b[0m\u001b[0mvalue\u001b[0m\u001b[0;34m,\u001b[0m \u001b[0;34m(\u001b[0m\u001b[0mnp\u001b[0m\u001b[0;34m.\u001b[0m\u001b[0mndarray\u001b[0m\u001b[0;34m,\u001b[0m \u001b[0mIndex\u001b[0m\u001b[0;34m)\u001b[0m\u001b[0;34m)\u001b[0m\u001b[0;34m:\u001b[0m\u001b[0;34m\u001b[0m\u001b[0m\n\u001b[1;32m   2762\u001b[0m                 \u001b[0;32mif\u001b[0m \u001b[0misinstance\u001b[0m\u001b[0;34m(\u001b[0m\u001b[0mvalue\u001b[0m\u001b[0;34m,\u001b[0m \u001b[0mlist\u001b[0m\u001b[0;34m)\u001b[0m \u001b[0;32mand\u001b[0m \u001b[0mlen\u001b[0m\u001b[0;34m(\u001b[0m\u001b[0mvalue\u001b[0m\u001b[0;34m)\u001b[0m \u001b[0;34m>\u001b[0m \u001b[0;36m0\u001b[0m\u001b[0;34m:\u001b[0m\u001b[0;34m\u001b[0m\u001b[0m\n",
      "\u001b[0;32m~/.virtualenvs/delays/lib/python3.6/site-packages/pandas/core/series.py\u001b[0m in \u001b[0;36m_sanitize_index\u001b[0;34m(data, index, copy)\u001b[0m\n\u001b[1;32m   3119\u001b[0m \u001b[0;34m\u001b[0m\u001b[0m\n\u001b[1;32m   3120\u001b[0m     \u001b[0;32mif\u001b[0m \u001b[0mlen\u001b[0m\u001b[0;34m(\u001b[0m\u001b[0mdata\u001b[0m\u001b[0;34m)\u001b[0m \u001b[0;34m!=\u001b[0m \u001b[0mlen\u001b[0m\u001b[0;34m(\u001b[0m\u001b[0mindex\u001b[0m\u001b[0;34m)\u001b[0m\u001b[0;34m:\u001b[0m\u001b[0;34m\u001b[0m\u001b[0m\n\u001b[0;32m-> 3121\u001b[0;31m         \u001b[0;32mraise\u001b[0m \u001b[0mValueError\u001b[0m\u001b[0;34m(\u001b[0m\u001b[0;34m'Length of values does not match length of '\u001b[0m \u001b[0;34m'index'\u001b[0m\u001b[0;34m)\u001b[0m\u001b[0;34m\u001b[0m\u001b[0m\n\u001b[0m\u001b[1;32m   3122\u001b[0m \u001b[0;34m\u001b[0m\u001b[0m\n\u001b[1;32m   3123\u001b[0m     \u001b[0;32mif\u001b[0m \u001b[0misinstance\u001b[0m\u001b[0;34m(\u001b[0m\u001b[0mdata\u001b[0m\u001b[0;34m,\u001b[0m \u001b[0mPeriodIndex\u001b[0m\u001b[0;34m)\u001b[0m\u001b[0;34m:\u001b[0m\u001b[0;34m\u001b[0m\u001b[0m\n",
      "\u001b[0;31mValueError\u001b[0m: Length of values does not match length of index"
     ]
    }
   ],
   "source": [
    "x = toxy(test)\n",
    "annotated_test = test.copy()\n",
    "annotated_test[\"predicted_delay\"] = lr.predict(x)"
   ]
  },
  {
   "cell_type": "code",
   "execution_count": null,
   "metadata": {},
   "outputs": [],
   "source": []
  }
 ],
 "metadata": {
  "kernelspec": {
   "display_name": "Python 3",
   "language": "python",
   "name": "python3"
  },
  "language_info": {
   "codemirror_mode": {
    "name": "ipython",
    "version": 3
   },
   "file_extension": ".py",
   "mimetype": "text/x-python",
   "name": "python",
   "nbconvert_exporter": "python",
   "pygments_lexer": "ipython3",
   "version": "3.6.1"
  }
 },
 "nbformat": 4,
 "nbformat_minor": 2
}
